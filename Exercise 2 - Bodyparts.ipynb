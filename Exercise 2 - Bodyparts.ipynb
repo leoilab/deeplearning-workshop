{
 "cells": [
  {
   "cell_type": "markdown",
   "metadata": {},
   "source": [
    "# Exercise 2 - Pre-trained models\n",
    "\n",
    "### Applying already pre-trained models\n",
    "\n",
    "We have previously trained a bodypart predictor, that can classify one of the 19 following bodyparts:"
   ]
  },
  {
   "cell_type": "code",
   "execution_count": null,
   "metadata": {},
   "outputs": [],
   "source": [
    "class_map = {0: 'abdomen',\n",
    "             1: 'ankle',\n",
    "             2: 'buttocks',\n",
    "             3: 'elbow',\n",
    "             4: 'face',\n",
    "             5: 'foot',\n",
    "             6: 'groin',\n",
    "             7: 'hand',\n",
    "             8: 'knee',\n",
    "             9: 'lower_arm',\n",
    "             10: 'lower_back',\n",
    "             11: 'lower_leg',\n",
    "             12: 'neck',\n",
    "             13: 'shoulder',\n",
    "             14: 'thorax',\n",
    "             15: 'upper_arm',\n",
    "             16: 'upper_back',\n",
    "             17: 'upper_leg',\n",
    "             18: 'wrist'}"
   ]
  },
  {
   "cell_type": "markdown",
   "metadata": {},
   "source": [
    "### Loading the model\n",
    "Keras provies a very good model format that is easily saveable and loadable.\n",
    "\n",
    "We can load the model and inspect as we've done previously:"
   ]
  },
  {
   "cell_type": "code",
   "execution_count": null,
   "metadata": {},
   "outputs": [],
   "source": [
    "from keras.models import load_model\n",
    "\n",
    "model = load_model('bodypart_predictor.h5')\n",
    "\n",
    "## This is a big model, have a look by un-commenting this line\n",
    "model.summary()\n"
   ]
  },
  {
   "cell_type": "markdown",
   "metadata": {},
   "source": [
    "We can see the shape of the output of a model by calling:"
   ]
  },
  {
   "cell_type": "code",
   "execution_count": null,
   "metadata": {},
   "outputs": [],
   "source": [
    "model.outputs"
   ]
  },
  {
   "cell_type": "markdown",
   "metadata": {},
   "source": [
    "This tells us that the model will give us a vector of shape `(?, 19)`. The question mark will take on the number of images that we pass through on a given pass of the model. So if we evaluate 3 images we'll get a 3 x 19 matrix out.\n",
    "\n",
    "The 19 is the number of bodyparts, and the value in this index of the vector will describe the probability that the image contains a given bodypart."
   ]
  },
  {
   "cell_type": "markdown",
   "metadata": {},
   "source": [
    "### Let's try applying it to an image\n",
    "\n",
    "Now we need to apply the model to an image. This requires that we do a little bit of pre-processing of the image.\n",
    "We can load an image from the disk:"
   ]
  },
  {
   "cell_type": "code",
   "execution_count": null,
   "metadata": {},
   "outputs": [],
   "source": [
    "from keras.preprocessing.image import load_img, img_to_array, array_to_img\n",
    "\n",
    "image = load_img('bodyparts_data/hand/fingers.jpg', target_size=(224, 224))\n",
    "image"
   ]
  },
  {
   "cell_type": "code",
   "execution_count": null,
   "metadata": {
    "scrolled": true
   },
   "outputs": [],
   "source": [
    "# convert it to array\n",
    "img = img_to_array(image)\n",
    "img"
   ]
  },
  {
   "cell_type": "markdown",
   "metadata": {},
   "source": [
    "The model is transfer learned from a model trained on ImageNet where they normalize the images by subtracting the means of each of the color channels (RGB), so to use the model we need to do the same:"
   ]
  },
  {
   "cell_type": "code",
   "execution_count": null,
   "metadata": {},
   "outputs": [],
   "source": [
    "import numpy as np\n",
    "\n",
    "def imagenet_norm(image):\n",
    "    # Mean RGB values. Do not change these values!\n",
    "    vgg_mean = np.array([123.68, 116.779, 103.939], dtype=np.float32).reshape((1, 1, 3))\n",
    "\n",
    "    # Normalize image\n",
    "    image = image - vgg_mean\n",
    "    image = image[:, :, ::-1]  # Reverse axis rgb->bgr\n",
    "\n",
    "    return image\n",
    "\n",
    "img = imagenet_norm(img)\n",
    "array_to_img(img)"
   ]
  },
  {
   "cell_type": "markdown",
   "metadata": {},
   "source": [
    "Looks a bit wierd, but this is what the model is used to - let's try and run it!"
   ]
  },
  {
   "cell_type": "code",
   "execution_count": null,
   "metadata": {},
   "outputs": [],
   "source": [
    "# The image is shape 224x224x3 but the model expects a tensor of Nx224x224x3,\n",
    "# where N is the number of images it has to predict on. So to predict we must\n",
    "# wrap the image in an array:\n",
    "prediction = model.predict(np.array([img]))\n",
    "prediction"
   ]
  },
  {
   "cell_type": "markdown",
   "metadata": {},
   "source": [
    "This output is the probability for each of the classes.\n",
    "\n",
    "Lets' find the highest one:"
   ]
  },
  {
   "cell_type": "code",
   "execution_count": null,
   "metadata": {},
   "outputs": [],
   "source": [
    "class_index = np.argmax(prediction)\n",
    "class_index "
   ]
  },
  {
   "cell_type": "markdown",
   "metadata": {},
   "source": [
    "This is the index from the `class_map` defined in the top:"
   ]
  },
  {
   "cell_type": "code",
   "execution_count": null,
   "metadata": {},
   "outputs": [],
   "source": [
    "class_map[class_index]"
   ]
  },
  {
   "cell_type": "markdown",
   "metadata": {},
   "source": [
    "YAY! that was the class we were looking for!\n",
    "\n",
    "### Exercise A:\n",
    "Now it's your turn, try taking some photos with your phone and upload them by going back to the folder tab and clicking \"upload\".\n",
    "Try changing the path to be your image instead. Below we defined a small helper function to apply a model to an image.\n",
    "\n",
    "Please sort your data according to the classes in `bodyparts_data/`.\n",
    "\n",
    "* Question 1: Can you take a picture where the model is not classifying correctly?\n",
    "\n",
    "* Question 2: What happens when you have multiple bodyparts in an image?\n",
    "\n",
    "* Question 3: What happens when there are no bodyparts in the image?\n",
    "\n",
    "* Question 4: Can you change the function below so it prints the certainty for each of the classes, not just the predicted one?\n"
   ]
  },
  {
   "cell_type": "code",
   "execution_count": null,
   "metadata": {
    "scrolled": true
   },
   "outputs": [],
   "source": [
    "def apply_model(image_path):\n",
    "    # Load and normalize\n",
    "    img = load_img(image_path, target_size=(224, 224))\n",
    "    norm_img = imagenet_norm(img_to_array(img))\n",
    "    \n",
    "    # Apply model and get class results\n",
    "    class_pred = model.predict(np.array([norm_img]))\n",
    "    proba = np.max(class_pred)\n",
    "    class_name = class_map[np.argmax(class_pred)]\n",
    "    \n",
    "    # Print output and return image to be displayed\n",
    "    print('The predicted class for this image is %s, with %0.2f certainty:' % (class_name, proba))\n",
    "    return img\n",
    "\n",
    "apply_model('bodyparts_data/hand/fingers.jpg')"
   ]
  },
  {
   "cell_type": "code",
   "execution_count": null,
   "metadata": {
    "collapsed": true
   },
   "outputs": [],
   "source": [
    "apply_model(\"<< Insert the path to your own image here >>\")"
   ]
  },
  {
   "cell_type": "markdown",
   "metadata": {},
   "source": [
    "## Training a model\n",
    "\n",
    "You might have found that some of the images didn't match the prediction that you wanted, so if you want you can try and get enough to actually do some training of your own - starting from the model we provided.\n",
    "\n",
    "To do this you need to sort the images you've taken into folders with the names of the class, like so:"
   ]
  },
  {
   "cell_type": "code",
   "execution_count": null,
   "metadata": {},
   "outputs": [],
   "source": [
    "!tree bodyparts_data/"
   ]
  },
  {
   "cell_type": "markdown",
   "metadata": {},
   "source": [
    "Put the images you've taken of each class into the corresponding folder under `data/`\n",
    "\n",
    "Now you need to define a generator as you did in exercise 1:"
   ]
  },
  {
   "cell_type": "code",
   "execution_count": null,
   "metadata": {},
   "outputs": [],
   "source": [
    "from keras.preprocessing.image import ImageDataGenerator\n",
    "\n",
    "image_data_generator = ImageDataGenerator(preprocessing_function=imagenet_norm)\n",
    "\n",
    "# Create an iterator that can loop through the data\n",
    "directory_iterator = image_data_generator.flow_from_directory('bodyparts_data/',\n",
    "                                                              target_size=(224, 224))"
   ]
  },
  {
   "cell_type": "markdown",
   "metadata": {},
   "source": [
    "### Exercise B:\n",
    "\n",
    "Now to train a model on the data you've collected you just need to run `model.fit_generator`. Try as before playing around with a different  number of epochs. You're not training on a lot of data. \n",
    "\n",
    "* Question 1: Can you get the model to be better at your images.\n",
    "\n",
    "* Question 2: What happens when you apply your newly trained model to new images you take that hasn't been seen before?"
   ]
  },
  {
   "cell_type": "code",
   "execution_count": null,
   "metadata": {},
   "outputs": [],
   "source": [
    "model.fit_generator(directory_iterator,\n",
    "                    epochs=3\n",
    "                   )"
   ]
  },
  {
   "cell_type": "code",
   "execution_count": null,
   "metadata": {},
   "outputs": [],
   "source": []
  }
 ],
 "metadata": {
  "kernelspec": {
   "display_name": "Python 3",
   "language": "python",
   "name": "python3"
  },
  "language_info": {
   "codemirror_mode": {
    "name": "ipython",
    "version": 3
   },
   "file_extension": ".py",
   "mimetype": "text/x-python",
   "name": "python",
   "nbconvert_exporter": "python",
   "pygments_lexer": "ipython3",
   "version": "3.6.4"
  }
 },
 "nbformat": 4,
 "nbformat_minor": 2
}
